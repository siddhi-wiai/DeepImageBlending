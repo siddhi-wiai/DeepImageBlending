{
 "cells": [
  {
   "cell_type": "code",
   "execution_count": 19,
   "metadata": {},
   "outputs": [
    {
     "name": "stdout",
     "output_type": "stream",
     "text": [
      "['./data/1_mask.png', './data/2_mask.png', './data/3_mask.png', './data/4_mask.png', './data/5_mask.png']\n",
      "['./data/1_source.png', './data/2_source.png', './data/3_source.png', './data/4_source.png', './data/5_source.png']\n",
      "['./data/1_target.png', './data/2_target.png', './data/3_target.png', './data/4_target.png', './data/5_target.png']\n",
      "done\n",
      "./data/1_source.png     ./data/1_mask.png     ./data/1_target.png\n",
      "./data/2_source.png     ./data/2_mask.png     ./data/2_target.png\n",
      "./data/3_source.png     ./data/3_mask.png     ./data/3_target.png\n",
      "./data/4_source.png     ./data/4_mask.png     ./data/4_target.png\n",
      "./data/5_source.png     ./data/5_mask.png     ./data/5_target.png\n"
     ]
    }
   ],
   "source": [
    "import glob\n",
    "import natsort\n",
    "\n",
    "data_folder = \"./data/\"\n",
    "\n",
    "mask_files = natsort.natsorted(glob.glob(data_folder + \"*_mask.png\"))\n",
    "print(mask_files)\n",
    "\n",
    "source_files = natsort.natsorted(glob.glob(data_folder + \"*_source.png\"))\n",
    "print(source_files)\n",
    "\n",
    "target_files = natsort.natsorted(glob.glob(data_folder + \"*_target.png\"))\n",
    "print(target_files)\n",
    "\n",
    "assert (len(mask_files) == len(source_files) == len(target_files)), \"Check the input data folder: there is mismatch in no of mask, source and target images!!\"\n",
    "\n",
    "print(\"done\")\n",
    "\n",
    "for s, m, t in zip(source_files, mask_files, target_files):\n",
    "    print(s, m, t, sep=\"     \")"
   ]
  },
  {
   "cell_type": "code",
   "execution_count": 23,
   "metadata": {},
   "outputs": [
    {
     "name": "stdout",
     "output_type": "stream",
     "text": [
      "100\n"
     ]
    }
   ],
   "source": [
    "import re\n",
    "\n",
    "x = re.search(r'\\d+', './data/100_mask.png').group(0)\n",
    "\n",
    "print(x)"
   ]
  },
  {
   "cell_type": "code",
   "execution_count": 29,
   "metadata": {},
   "outputs": [
    {
     "name": "stdout",
     "output_type": "stream",
     "text": [
      "x is [0]\n",
      "x is [1]\n",
      "x is [2]\n",
      "x is [3]\n",
      "x is [4]\n",
      "x is [5]\n"
     ]
    }
   ],
   "source": [
    "epochs = 5\n",
    "x = [0]\n",
    "\n",
    "while x[0] <= epochs:\n",
    "\n",
    "    def show_x():\n",
    "        print(f\"x is {x}\")\n",
    "        x[0] += 1\n",
    "\n",
    "    show_x()\n",
    "\n"
   ]
  }
 ],
 "metadata": {
  "kernelspec": {
   "display_name": "deepimageblending",
   "language": "python",
   "name": "python3"
  },
  "language_info": {
   "codemirror_mode": {
    "name": "ipython",
    "version": 3
   },
   "file_extension": ".py",
   "mimetype": "text/x-python",
   "name": "python",
   "nbconvert_exporter": "python",
   "pygments_lexer": "ipython3",
   "version": "3.11.5"
  },
  "orig_nbformat": 4
 },
 "nbformat": 4,
 "nbformat_minor": 2
}
